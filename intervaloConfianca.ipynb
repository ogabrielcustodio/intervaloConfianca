{
  "nbformat": 4,
  "nbformat_minor": 0,
  "metadata": {
    "colab": {
      "provenance": [],
      "authorship_tag": "ABX9TyNikMI3nK8yZ+00PlYCGbVU",
      "include_colab_link": true
    },
    "kernelspec": {
      "name": "python3",
      "display_name": "Python 3"
    },
    "language_info": {
      "name": "python"
    }
  },
  "cells": [
    {
      "cell_type": "markdown",
      "metadata": {
        "id": "view-in-github",
        "colab_type": "text"
      },
      "source": [
        "<a href=\"https://colab.research.google.com/github/ogabrielcustodio/intervaloConfianca/blob/main/intervaloConfianca.ipynb\" target=\"_parent\"><img src=\"https://colab.research.google.com/assets/colab-badge.svg\" alt=\"Open In Colab\"/></a>"
      ]
    },
    {
      "cell_type": "markdown",
      "source": [
        "# Intervalo de Confiança"
      ],
      "metadata": {
        "id": "s2-ExHwlJxGH"
      }
    },
    {
      "cell_type": "markdown",
      "source": [
        "Intervalo de confiança é o nível de confiança que podemos ter em relação a média amostral ser próxima a média real da população em um determinado intervalo de valores."
      ],
      "metadata": {
        "id": "jv95S4_kOl3V"
      }
    },
    {
      "cell_type": "code",
      "execution_count": 4,
      "metadata": {
        "id": "qjfXOt5JJhxT"
      },
      "outputs": [],
      "source": [
        "import numpy as np\n",
        "from scipy import stats"
      ]
    },
    {
      "cell_type": "code",
      "source": [
        "dados = np.array([1.66, 1.50, 1.73, 1.60, 1.78, 1.80, 1.53, 1.90])"
      ],
      "metadata": {
        "id": "uVjgW1a6KQJO"
      },
      "execution_count": 2,
      "outputs": []
    },
    {
      "cell_type": "code",
      "source": [
        "media = np.mean(dados)"
      ],
      "metadata": {
        "id": "mwf3H61HKbDY"
      },
      "execution_count": 9,
      "outputs": []
    },
    {
      "cell_type": "markdown",
      "source": [
        "## Erro padrão\n",
        "\n",
        "Mede a precisão da média amostral como estimativa da média populacional, te informando o quão confiável é sua estimativa da média populacional com base na sua média amostral."
      ],
      "metadata": {
        "id": "tVNQCbQJSGRD"
      }
    },
    {
      "cell_type": "code",
      "source": [
        "erro_padrao = np.std(dados,ddof=1)/np.sqrt(len(dados))"
      ],
      "metadata": {
        "id": "Gzke1dJ8Ke0v"
      },
      "execution_count": 4,
      "outputs": []
    },
    {
      "cell_type": "markdown",
      "source": [
        "## Nível de confiança\n",
        "\n",
        "Quantifica a confiabilidade em percentual dos dados obtidos em uma pesquisa. Os níves de confiança mais comuns são:\n",
        "- 95%\n",
        "- 90%\n",
        "- 99%\n",
        "Sendo que o nível de confiança de 95% é o mais utilizado em testes estatísticos."
      ],
      "metadata": {
        "id": "eX8K1D7pSJDS"
      }
    },
    {
      "cell_type": "code",
      "source": [
        "nivel_confianca = 0.95"
      ],
      "metadata": {
        "id": "Q7lTmKldKslH"
      },
      "execution_count": 5,
      "outputs": []
    },
    {
      "cell_type": "markdown",
      "source": [
        "## Graus de liberdade\n",
        "\n",
        "Permite encontrar dentro de um nível de confiança o percentual que pode ser aceito ainda que haja erro."
      ],
      "metadata": {
        "id": "01so8v4kRyW7"
      }
    },
    {
      "cell_type": "code",
      "source": [
        "df = len(dados)-1"
      ],
      "metadata": {
        "id": "yzxxUN9CLJI9"
      },
      "execution_count": 6,
      "outputs": []
    },
    {
      "cell_type": "markdown",
      "source": [
        "## Valor crítico\n",
        "\n",
        "Embora tenha sido usado o cálculo do valor crítico nessa atividade que tem apenas uma amostra, é mais útil usá-lo em situações com mais de uma amostra, uma vez que o valor crítico irá nos ajudar a definir a real diferença entre as duas amostras e se essa diferença é significativa, nos ajudando a analisar melhor as hipóteses verdadeiras e as hipóteses falsa."
      ],
      "metadata": {
        "id": "Cju_-w8TTMRU"
      }
    },
    {
      "cell_type": "code",
      "source": [
        "valor_critico = stats.t.ppf(1-(1- nivel_confianca)/2,df)"
      ],
      "metadata": {
        "id": "NZMdD6flKxHL"
      },
      "execution_count": 32,
      "outputs": []
    },
    {
      "cell_type": "markdown",
      "source": [
        "## Margem de erro\n",
        "\n",
        "Representa a distância máxima entre o valor obtido na amostra e o valor real da população.\n",
        "- margem de erro pequena indica que a amostra está mais próxima do valor real da população.\n",
        "- margem de erro grande indica que amostra está mais distante do valor real da população."
      ],
      "metadata": {
        "id": "Hv7YrgWvTJpT"
      }
    },
    {
      "cell_type": "code",
      "source": [
        "margem_erro = valor_critico * erro_padrao"
      ],
      "metadata": {
        "id": "CbHtlb3GTIYl"
      },
      "execution_count": 33,
      "outputs": []
    },
    {
      "cell_type": "markdown",
      "source": [
        "## Intervalo de confiança\n",
        "\n",
        "Acima foi explicado a definição de intervalo de confiança, abaixo está o código em que é expresso o intervalo que estima a real média da população, ou seja, o a real média da população está no intervalo de x a y, levando em consideração uma margem de erro para menos e para mais."
      ],
      "metadata": {
        "id": "WJkvrjFaSU_0"
      }
    },
    {
      "cell_type": "code",
      "source": [
        "intervalo_confianca = (media-margem_erro, media+margem_erro)"
      ],
      "metadata": {
        "id": "ee86prN7LPRL"
      },
      "execution_count": 10,
      "outputs": []
    },
    {
      "cell_type": "markdown",
      "source": [
        "## Representação gráfica usando matplotlib"
      ],
      "metadata": {
        "id": "BIfFL0r4ScYc"
      }
    },
    {
      "cell_type": "code",
      "source": [
        "import matplotlib.pyplot as plt"
      ],
      "metadata": {
        "id": "7iXcWnDyLcAy"
      },
      "execution_count": 26,
      "outputs": []
    },
    {
      "cell_type": "code",
      "source": [
        "x = [1]\n",
        "y = media\n",
        "yerr = margem_erro\n",
        "plt.figure(figsize=(6, 4))\n",
        "plt.errorbar(x, y, yerr=yerr, fmt='o', color='black', capsize=5)\n",
        "plt.axhline(y=media, color='blue', linestyle='--')\n",
        "plt.title('Intervalo de Confiança para a Média')\n",
        "plt.xlabel('Amostra')\n",
        "plt.ylabel('Valor')\n",
        "plt.xlim(0.5, 1.5)\n",
        "plt.ylim(min(intervalo_confianca) - 0.1, max(intervalo_confianca) + 0.1)\n",
        "plt.xticks([])\n",
        "plt.grid(True)\n",
        "plt.show()"
      ],
      "metadata": {
        "colab": {
          "base_uri": "https://localhost:8080/",
          "height": 387
        },
        "id": "YQxnBQZtMP-m",
        "outputId": "3720fd4e-02ca-4ca5-c133-8d1afae00f7b"
      },
      "execution_count": 30,
      "outputs": [
        {
          "output_type": "display_data",
          "data": {
            "text/plain": [
              "<Figure size 600x400 with 1 Axes>"
            ],
            "image/png": "[encoded data removed]"
          },
          "metadata": {}
        }
      ]
    },
    {
      "cell_type": "markdown",
      "source": [
        "# Intervalo de confiança com uso da função tinterval da lib stats"
      ],
      "metadata": {
        "id": "oR7QIGQeddGL"
      }
    },
    {
      "cell_type": "code",
      "source": [
        "alturas = [1.65,1.70,1.55,1.60,1.80,1.50,1.45,1.90]"
      ],
      "metadata": {
        "id": "Uhu2u7gDdmQL"
      },
      "execution_count": 1,
      "outputs": []
    },
    {
      "cell_type": "code",
      "source": [
        "confianca = 0.95"
      ],
      "metadata": {
        "id": "mVPy5dMPd8eI"
      },
      "execution_count": 2,
      "outputs": []
    },
    {
      "cell_type": "code",
      "source": [
        "intervalo_confianca = stats.t.interval(confianca,len(alturas)-1,loc=np.mean(alturas),scale=stats.sem(alturas))"
      ],
      "metadata": {
        "id": "pRyR1iSkd_fi"
      },
      "execution_count": 5,
      "outputs": []
    },
    {
      "cell_type": "code",
      "source": [
        "intervalo_confianca"
      ],
      "metadata": {
        "colab": {
          "base_uri": "https://localhost:8080/"
        },
        "id": "459Geum-eCvA",
        "outputId": "e6833340-5131-4bb4-a2b7-cab5acdc3635"
      },
      "execution_count": 7,
      "outputs": [
        {
          "output_type": "execute_result",
          "data": {
            "text/plain": [
              "(1.5164944256116368, 1.7710055743883628)"
            ]
          },
          "metadata": {},
          "execution_count": 7
        }
      ]
    }
  ]
}